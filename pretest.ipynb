{
 "cells": [
  {
   "cell_type": "code",
   "execution_count": 1,
   "metadata": {},
   "outputs": [],
   "source": [
    "import numpy as np\n",
    "import pandas as pd"
   ]
  },
  {
   "cell_type": "code",
   "execution_count": 2,
   "metadata": {},
   "outputs": [],
   "source": [
    "import matplotlib.pyplot as plt\n",
    "%matplotlib inline\n",
    "#設定預設繪圖大小(長,寬)\n",
    "# plt.rcParams[\"figure.figsize\"] = (20,10)"
   ]
  },
  {
   "cell_type": "code",
   "execution_count": 3,
   "metadata": {},
   "outputs": [],
   "source": [
    "data_path = 'data/'\n",
    "df = pd.read_csv(data_path + 'train.csv')"
   ]
  },
  {
   "cell_type": "markdown",
   "metadata": {},
   "source": [
    "## 資料描述\n",
    "- acidity 酸度\n",
    "- citric_acid 檸檬酸\n",
    "- sugar 糖\n",
    "- total_sulfur_dioxide 二氧化硫(總)\n",
    "- alcohol 酒精\n",
    "- pH pH值\n",
    "- free_sulfur_dioxide 二氧化硫(游離)\n",
    "- quality 品質"
   ]
  },
  {
   "cell_type": "code",
   "execution_count": null,
   "metadata": {},
   "outputs": [],
   "source": [
    "df.head()"
   ]
  },
  {
   "cell_type": "code",
   "execution_count": null,
   "metadata": {},
   "outputs": [],
   "source": [
    "df.info()"
   ]
  },
  {
   "cell_type": "code",
   "execution_count": null,
   "metadata": {},
   "outputs": [],
   "source": [
    "df.isnull().sum()"
   ]
  },
  {
   "cell_type": "code",
   "execution_count": null,
   "metadata": {},
   "outputs": [],
   "source": [
    "df.describe()"
   ]
  },
  {
   "cell_type": "code",
   "execution_count": null,
   "metadata": {},
   "outputs": [],
   "source": [
    "df.quality.value_counts()"
   ]
  },
  {
   "cell_type": "markdown",
   "metadata": {},
   "source": [
    "## 資料前處理"
   ]
  },
  {
   "cell_type": "markdown",
   "metadata": {},
   "source": [
    "### 極端值處理"
   ]
  },
  {
   "cell_type": "markdown",
   "metadata": {},
   "source": [
    "#### 剔除 >平均數+3個標準差 及 <平均數-3個標準差的資料"
   ]
  },
  {
   "cell_type": "code",
   "execution_count": 4,
   "metadata": {
    "scrolled": true
   },
   "outputs": [
    {
     "name": "stdout",
     "output_type": "stream",
     "text": [
      "acidity:1190\n",
      "citric_acid:1189\n",
      "sugar:1167\n",
      "total_sulfur_dioxide:1148\n",
      "pH:1131\n",
      "free_sulfur_dioxide:1119\n"
     ]
    }
   ],
   "source": [
    "n_std = 3\n",
    "for x in list(df.columns):\n",
    "    if x != 'quality' and df[x].dtype != 'object':\n",
    "        df = df.loc[~(df[x] > df[x].mean()+df[x].std()*n_std) & ~(df[x] < df[x].mean()-df[x].std()*n_std), :]#.acidity.describe()\n",
    "        print(f\"{x}:{len(df)}\")"
   ]
  },
  {
   "cell_type": "code",
   "execution_count": null,
   "metadata": {},
   "outputs": [],
   "source": [
    "# n_std = 3\n",
    "# for x in list(df.columns):\n",
    "#     if x != 'quality' and df[x].dtype != 'object':\n",
    "#         head = df.loc[(df[x] > df[x].mean()+df[x].std()*n_std), :]#.acidity.describe()\n",
    "#         tail = df.loc[(df[x] < df[x].mean()-df[x].std()*n_std), :]#.acidity.describe()\n",
    "\n",
    "#         print(x, \"drop\", f\"head:{len(head)}\", f\"tail:{len(tail)}\")"
   ]
  },
  {
   "cell_type": "markdown",
   "metadata": {},
   "source": [
    "### 缺失值處理"
   ]
  },
  {
   "cell_type": "markdown",
   "metadata": {},
   "source": [
    "#### 數值型資料 -> 補中位數"
   ]
  },
  {
   "cell_type": "code",
   "execution_count": 5,
   "metadata": {},
   "outputs": [],
   "source": [
    "df = df.fillna(df.median())"
   ]
  },
  {
   "cell_type": "code",
   "execution_count": null,
   "metadata": {
    "code_folding": []
   },
   "outputs": [],
   "source": [
    "# for x in list(df.columns):\n",
    "#     if x != 'quality' and df[x].dtype != 'object':\n",
    "#         q_50 = np.percentile(df[~df[x].isnull()][x], q = 50)\n",
    "#         df.loc[df[x].isnull(),x] = q_50"
   ]
  },
  {
   "cell_type": "markdown",
   "metadata": {},
   "source": [
    "#### 類別型資料 -> 自成一類"
   ]
  },
  {
   "cell_type": "code",
   "execution_count": 6,
   "metadata": {},
   "outputs": [
    {
     "data": {
      "text/plain": [
       "Low        600\n",
       "Medium     367\n",
       "High       110\n",
       "unknown     42\n",
       "Name: alcohol, dtype: int64"
      ]
     },
     "execution_count": 6,
     "metadata": {},
     "output_type": "execute_result"
    }
   ],
   "source": [
    "df.loc[df.alcohol == 'lowW', \"alcohol\"] = 'Low'\n",
    "df.loc[df.alcohol.isnull(), \"alcohol\"] = 'unknown'\n",
    "df.alcohol.value_counts()"
   ]
  },
  {
   "cell_type": "markdown",
   "metadata": {},
   "source": [
    "## EDA"
   ]
  },
  {
   "cell_type": "markdown",
   "metadata": {},
   "source": [
    "### X變數 描述統計量 & 直方圖"
   ]
  },
  {
   "cell_type": "code",
   "execution_count": null,
   "metadata": {
    "code_folding": [],
    "scrolled": false
   },
   "outputs": [],
   "source": [
    "for x in list(df.columns):\n",
    "    print(x,'\\n-----------------')\n",
    "    print(df[x].describe())\n",
    "    df[x].hist()\n",
    "    plt.show()"
   ]
  },
  {
   "cell_type": "markdown",
   "metadata": {},
   "source": [
    "### X變數 盒形圖"
   ]
  },
  {
   "cell_type": "code",
   "execution_count": null,
   "metadata": {
    "scrolled": true
   },
   "outputs": [],
   "source": [
    "for x in list(df.columns):\n",
    "    if x != 'quality' and df[x].dtype != 'object':\n",
    "        df.boxplot(x)\n",
    "        plt.show()"
   ]
  },
  {
   "cell_type": "markdown",
   "metadata": {},
   "source": [
    "### X與Y 盒形圖"
   ]
  },
  {
   "cell_type": "code",
   "execution_count": null,
   "metadata": {},
   "outputs": [],
   "source": [
    "for x in df.columns:\n",
    "    if x != 'quality' and df[x].dtype != 'object':\n",
    "        print(x)\n",
    "        plt.boxplot([df[df['quality']==0][x], df[df['quality']==1][x]], \n",
    "                    labels = ['quality=0', 'quality=1'])\n",
    "        plt.ylabel(x)\n",
    "        plt.show()"
   ]
  },
  {
   "cell_type": "markdown",
   "metadata": {},
   "source": [
    "### X與Y 直方圖"
   ]
  },
  {
   "cell_type": "code",
   "execution_count": null,
   "metadata": {
    "code_folding": []
   },
   "outputs": [],
   "source": [
    "for x in df.columns:\n",
    "    if x != 'quality' and df[x].dtype != 'object':\n",
    "        print(x)\n",
    "        df0 = df[df['quality']==0]\n",
    "        df1 = df[df['quality']==1]\n",
    "        plt.hist([df0[x], df1[x]], label = ['quality=0', 'quality=1'], stacked=False)#True\n",
    "        plt.xlabel(x)\n",
    "        plt.ylabel('number of data ')\n",
    "        plt.legend()\n",
    "        plt.show()"
   ]
  },
  {
   "cell_type": "markdown",
   "metadata": {},
   "source": [
    "### X與Y 散佈圖"
   ]
  },
  {
   "cell_type": "code",
   "execution_count": null,
   "metadata": {},
   "outputs": [],
   "source": [
    "for x in df.columns:\n",
    "    if x != 'quality':# and df[x].dtype != 'object':\n",
    "        print(x)\n",
    "        plt.scatter(\"quality\", x, data=df, alpha = 0.2)\n",
    "        plt.xlabel('quality')\n",
    "        plt.ylabel(x)\n",
    "        plt.show()"
   ]
  },
  {
   "cell_type": "markdown",
   "metadata": {},
   "source": [
    "### 相關分析"
   ]
  },
  {
   "cell_type": "code",
   "execution_count": 7,
   "metadata": {},
   "outputs": [
    {
     "data": {
      "text/plain": [
       "<AxesSubplot:>"
      ]
     },
     "execution_count": 7,
     "metadata": {},
     "output_type": "execute_result"
    },
    {
     "data": {
      "image/png": "[encoded data removed]",
      "text/plain": [
       "<Figure size 432x288 with 2 Axes>"
      ]
     },
     "metadata": {
      "needs_background": "light"
     },
     "output_type": "display_data"
    }
   ],
   "source": [
    "import seaborn as sns\n",
    "# calculate the correlation matrix\n",
    "corr = df.corr()\n",
    "\n",
    "# plot the heatmap\n",
    "sns.heatmap(corr, annot=True, cmap='coolwarm',\n",
    "        xticklabels=corr.columns,\n",
    "        yticklabels=corr.columns)"
   ]
  },
  {
   "cell_type": "code",
   "execution_count": 8,
   "metadata": {},
   "outputs": [],
   "source": [
    "x = df.drop('quality', axis = 1).copy()\n",
    "y = df['quality'].copy()"
   ]
  },
  {
   "cell_type": "code",
   "execution_count": 10,
   "metadata": {},
   "outputs": [
    {
     "name": "stderr",
     "output_type": "stream",
     "text": [
      "ERROR:root:Internal Python error in the inspect module.\n",
      "Below is the traceback from this internal error.\n",
      "\n"
     ]
    },
    {
     "name": "stdout",
     "output_type": "stream",
     "text": [
      "Traceback (most recent call last):\n",
      "  File \"C:\\Users\\Administrator\\Anaconda3\\lib\\site-packages\\IPython\\core\\interactiveshell.py\", line 2910, in run_code\n",
      "    exec(code_obj, self.user_global_ns, self.user_ns)\n",
      "  File \"<ipython-input-10-87d7b93d4292>\", line 3, in <module>\n",
      "    from sklearn.feature_selection import SelectKBest\n",
      "  File \"C:\\Users\\Administrator\\Anaconda3\\lib\\site-packages\\sklearn\\feature_selection\\__init__.py\", line 7, in <module>\n",
      "    from .univariate_selection import chi2\n",
      "  File \"C:\\Users\\Administrator\\Anaconda3\\lib\\site-packages\\sklearn\\feature_selection\\univariate_selection.py\", line 15, in <module>\n",
      "    from ..preprocessing import LabelBinarizer\n",
      "  File \"C:\\Users\\Administrator\\Anaconda3\\lib\\site-packages\\sklearn\\preprocessing\\__init__.py\", line 6, in <module>\n",
      "    from ._function_transformer import FunctionTransformer\n",
      "  File \"C:\\Users\\Administrator\\Anaconda3\\lib\\site-packages\\sklearn\\preprocessing\\_function_transformer.py\", line 5, in <module>\n",
      "    from ..utils.testing import assert_allclose_dense_sparse\n",
      "  File \"C:\\Users\\Administrator\\Anaconda3\\lib\\site-packages\\sklearn\\utils\\testing.py\", line 718, in <module>\n",
      "    import pytest\n",
      "  File \"C:\\Users\\Administrator\\Anaconda3\\lib\\site-packages\\pytest.py\", line 13, in <module>\n",
      "    from _pytest.fixtures import fixture, yield_fixture\n",
      "  File \"C:\\Users\\Administrator\\Anaconda3\\lib\\site-packages\\_pytest\\fixtures.py\", line 842, in <module>\n",
      "    class FixtureFunctionMarker(object):\n",
      "  File \"C:\\Users\\Administrator\\Anaconda3\\lib\\site-packages\\_pytest\\fixtures.py\", line 844, in FixtureFunctionMarker\n",
      "    params = attr.ib(convert=attr.converters.optional(tuple))\n",
      "TypeError: attrib() got an unexpected keyword argument 'convert'\n",
      "\n",
      "During handling of the above exception, another exception occurred:\n",
      "\n",
      "Traceback (most recent call last):\n",
      "  File \"C:\\Users\\Administrator\\Anaconda3\\lib\\site-packages\\IPython\\core\\interactiveshell.py\", line 1828, in showtraceback\n",
      "    stb = value._render_traceback_()\n",
      "AttributeError: 'TypeError' object has no attribute '_render_traceback_'\n",
      "\n",
      "During handling of the above exception, another exception occurred:\n",
      "\n",
      "Traceback (most recent call last):\n",
      "  File \"C:\\Users\\Administrator\\Anaconda3\\lib\\site-packages\\IPython\\core\\ultratb.py\", line 1090, in get_records\n",
      "    return _fixed_getinnerframes(etb, number_of_lines_of_context, tb_offset)\n",
      "  File \"C:\\Users\\Administrator\\Anaconda3\\lib\\site-packages\\IPython\\core\\ultratb.py\", line 311, in wrapped\n",
      "    return f(*args, **kwargs)\n",
      "  File \"C:\\Users\\Administrator\\Anaconda3\\lib\\site-packages\\IPython\\core\\ultratb.py\", line 345, in _fixed_getinnerframes\n",
      "    records = fix_frame_records_filenames(inspect.getinnerframes(etb, context))\n",
      "  File \"C:\\Users\\Administrator\\Anaconda3\\lib\\inspect.py\", line 1483, in getinnerframes\n",
      "    frameinfo = (tb.tb_frame,) + getframeinfo(tb, context)\n",
      "  File \"C:\\Users\\Administrator\\Anaconda3\\lib\\inspect.py\", line 1441, in getframeinfo\n",
      "    filename = getsourcefile(frame) or getfile(frame)\n",
      "  File \"C:\\Users\\Administrator\\Anaconda3\\lib\\inspect.py\", line 696, in getsourcefile\n",
      "    if getattr(getmodule(object, filename), '__loader__', None) is not None:\n",
      "  File \"C:\\Users\\Administrator\\Anaconda3\\lib\\inspect.py\", line 733, in getmodule\n",
      "    if ismodule(module) and hasattr(module, '__file__'):\n",
      "  File \"C:\\Users\\Administrator\\Anaconda3\\lib\\site-packages\\py\\_vendored_packages\\apipkg.py\", line 195, in __getattribute__\n",
      "    return getattr(getmod(), name)\n",
      "  File \"C:\\Users\\Administrator\\Anaconda3\\lib\\site-packages\\py\\_vendored_packages\\apipkg.py\", line 179, in getmod\n",
      "    x = importobj(modpath, None)\n",
      "  File \"C:\\Users\\Administrator\\Anaconda3\\lib\\site-packages\\py\\_vendored_packages\\apipkg.py\", line 69, in importobj\n",
      "    module = __import__(modpath, None, None, ['__doc__'])\n",
      "  File \"C:\\Users\\Administrator\\Anaconda3\\lib\\site-packages\\pytest.py\", line 13, in <module>\n",
      "    from _pytest.fixtures import fixture, yield_fixture\n",
      "  File \"C:\\Users\\Administrator\\Anaconda3\\lib\\site-packages\\_pytest\\fixtures.py\", line 842, in <module>\n",
      "    class FixtureFunctionMarker(object):\n",
      "  File \"C:\\Users\\Administrator\\Anaconda3\\lib\\site-packages\\_pytest\\fixtures.py\", line 844, in FixtureFunctionMarker\n",
      "    params = attr.ib(convert=attr.converters.optional(tuple))\n",
      "TypeError: attrib() got an unexpected keyword argument 'convert'\n"
     ]
    },
    {
     "ename": "TypeError",
     "evalue": "attrib() got an unexpected keyword argument 'convert'",
     "output_type": "error",
     "traceback": [
      "\u001b[1;31m---------------------------------------------------------------------------\u001b[0m"
     ]
    }
   ],
   "source": [
    "#預測 y之最佳features\n",
    "\n",
    "from sklearn.feature_selection import SelectKBest\n",
    "from sklearn.feature_selection import chi2,f_regression,f_classif #卡方、相關、ANOVA\n",
    "\n",
    "#apply SelectKBest class to extract top XXX best features\n",
    "bestfeatures = SelectKBest(score_func=f_regression, k='all')\n",
    "fit = bestfeatures.fit(x,y)\n",
    "dfscores = pd.DataFrame(fit.scores_)\n",
    "dfpvalues = pd.DataFrame(fit.pvalues_).apply(lambda x: round(x, 3))\n",
    "dfcolumns = pd.DataFrame(x.columns)\n",
    "#concat two dataframes for better visualization \n",
    "featureScores = pd.concat([dfcolumns,dfscores,dfpvalues],axis=1)\n",
    "featureScores.columns = ['Factor','Score','p-value']  #naming the dataframe columns\n",
    "print(featureScores.nlargest(len(x.columns),'Score'))  #print XXX best features"
   ]
  },
  {
   "cell_type": "markdown",
   "metadata": {},
   "source": [
    "## Modeling"
   ]
  }
 ],
 "metadata": {
  "kernelspec": {
   "display_name": "Python 3",
   "language": "python",
   "name": "python3"
  },
  "language_info": {
   "codemirror_mode": {
    "name": "ipython",
    "version": 3
   },
   "file_extension": ".py",
   "mimetype": "text/x-python",
   "name": "python",
   "nbconvert_exporter": "python",
   "pygments_lexer": "ipython3",
   "version": "3.6.4"
  },
  "toc": {
   "base_numbering": 1,
   "nav_menu": {},
   "number_sections": false,
   "sideBar": true,
   "skip_h1_title": false,
   "title_cell": "Table of Contents",
   "title_sidebar": "Contents",
   "toc_cell": false,
   "toc_position": {},
   "toc_section_display": true,
   "toc_window_display": true
  },
  "varInspector": {
   "cols": {
    "lenName": 16,
    "lenType": 16,
    "lenVar": 40
   },
   "kernels_config": {
    "python": {
     "delete_cmd_postfix": "",
     "delete_cmd_prefix": "del ",
     "library": "var_list.py",
     "varRefreshCmd": "print(var_dic_list())"
    },
    "r": {
     "delete_cmd_postfix": ") ",
     "delete_cmd_prefix": "rm(",
     "library": "var_list.r",
     "varRefreshCmd": "cat(var_dic_list()) "
    }
   },
   "types_to_exclude": [
    "module",
    "function",
    "builtin_function_or_method",
    "instance",
    "_Feature"
   ],
   "window_display": false
  }
 },
 "nbformat": 4,
 "nbformat_minor": 2
}
